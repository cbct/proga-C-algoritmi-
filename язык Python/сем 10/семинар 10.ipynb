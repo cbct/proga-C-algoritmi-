{
 "cells": [
  {
   "cell_type": "markdown",
   "id": "ee33c2a2-4107-48ef-801b-c7a2206912ff",
   "metadata": {},
   "source": [
    "# Библиотека Pygame\n",
    "\n",
    "\n",
    "# Набор модулей языка программирования Python, предназначенный для написания компьютерных игр и мультимедиа-приложений.\n",
    "\n",
    "# Установка Pygame"
   ]
  },
  {
   "cell_type": "markdown",
   "id": "d1d5aa6a-8f0e-4b7a-ac66-d14a5391eaea",
   "metadata": {},
   "source": [
    "pip install pygame"
   ]
  },
  {
   "cell_type": "markdown",
   "id": "a43d6529-0179-4fab-9ca9-1c594c671ae5",
   "metadata": {},
   "source": [
    "# Импортирование библиотеки:"
   ]
  },
  {
   "cell_type": "raw",
   "id": "d71f85a1-c2f3-41ea-8cf8-1ccd1c9573f4",
   "metadata": {},
   "source": [
    "import pygame"
   ]
  },
  {
   "cell_type": "markdown",
   "id": "f1c800d1-5d86-4066-8437-d44d45b2d71b",
   "metadata": {},
   "source": [
    "# Инициализация pygame"
   ]
  },
  {
   "cell_type": "raw",
   "id": "69b04f9a-4b9c-443a-a9ae-f584baa5b24c",
   "metadata": {},
   "source": [
    "pygame.init()"
   ]
  },
  {
   "cell_type": "markdown",
   "id": "48c4717f-5768-48ea-913a-86aa4df7711b",
   "metadata": {},
   "source": [
    "# Создание окна игры"
   ]
  },
  {
   "cell_type": "raw",
   "id": "a7fdff1a-db0a-4cb6-8b59-7d02dca64cc8",
   "metadata": {},
   "source": [
    "screen = pygame.display.set_mode((800, 600))\n",
    "pygame.display.set_caption(\"\")"
   ]
  },
  {
   "cell_type": "markdown",
   "id": "50b0e734-2321-4ee4-9ec4-8833002dede7",
   "metadata": {},
   "source": [
    "# Установка черного фона"
   ]
  },
  {
   "cell_type": "raw",
   "id": "03f8886d-511f-42da-8d1e-a69b748032e9",
   "metadata": {},
   "source": [
    "background = pygame.Surface(screen.get_size())\n",
    "background.fill((0, 0, 0))"
   ]
  },
  {
   "cell_type": "markdown",
   "id": "132d18ee-b583-463d-aac5-d944f2eb4e61",
   "metadata": {},
   "source": [
    "# Обработка событий"
   ]
  },
  {
   "cell_type": "raw",
   "id": "6633d22f-8671-4290-8a58-095dc0cba9d7",
   "metadata": {},
   "source": [
    "running = True\n",
    "while running:\n",
    "    for event in pygame.event.get():\n",
    "        if event.type == pygame.QUIT:\n",
    "            running = False"
   ]
  },
  {
   "cell_type": "markdown",
   "id": "b382e3fd-0c3b-4ef0-afee-c6f7ea680a0a",
   "metadata": {},
   "source": [
    "# Отрисовка фона"
   ]
  },
  {
   "cell_type": "raw",
   "id": "1dd93c5f-e40b-49b8-be7b-adda26838e44",
   "metadata": {},
   "source": [
    "    screen.blit(background, (0, 0))"
   ]
  },
  {
   "cell_type": "markdown",
   "id": "5180b6b2-6f73-4cbe-9ea2-3795b06eedf2",
   "metadata": {},
   "source": [
    "# Обновление экрана"
   ]
  },
  {
   "cell_type": "raw",
   "id": "d17723f4-61ea-47f2-a519-5532283b3e60",
   "metadata": {},
   "source": [
    "    pygame.display.flip()"
   ]
  },
  {
   "cell_type": "raw",
   "id": "35e550a3-2a5b-40ae-ae99-4f65f48ed791",
   "metadata": {},
   "source": [
    "pygame.quit()\n",
    "print()"
   ]
  },
  {
   "cell_type": "markdown",
   "id": "2febc6f1-69da-4f4a-b871-c1e3e350e7a6",
   "metadata": {},
   "source": [
    "# Спасибо за внимание"
   ]
  }
 ],
 "metadata": {
  "kernelspec": {
   "display_name": "Python 3 (ipykernel)",
   "language": "python",
   "name": "python3"
  },
  "language_info": {
   "codemirror_mode": {
    "name": "ipython",
    "version": 3
   },
   "file_extension": ".py",
   "mimetype": "text/x-python",
   "name": "python",
   "nbconvert_exporter": "python",
   "pygments_lexer": "ipython3",
   "version": "3.9.13"
  }
 },
 "nbformat": 4,
 "nbformat_minor": 5
}
